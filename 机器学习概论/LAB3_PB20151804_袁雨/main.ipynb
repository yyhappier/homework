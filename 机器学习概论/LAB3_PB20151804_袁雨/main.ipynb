{
 "cells": [
  {
   "cell_type": "code",
   "execution_count": 1,
   "metadata": {
    "collapsed": true,
    "jupyter": {
     "outputs_hidden": true
    }
   },
   "outputs": [],
   "source": [
    "# import libraries\n",
    "import pandas as pd\n",
    "import numpy as np\n",
    "from matplotlib import pyplot as plt"
   ]
  },
  {
   "cell_type": "code",
   "execution_count": 2,
   "metadata": {
    "collapsed": false,
    "jupyter": {
     "outputs_hidden": false
    },
    "pycharm": {
     "name": "#%%\n"
    }
   },
   "outputs": [
    {
     "data": {
      "text/html": [
       "<div>\n",
       "<style scoped>\n",
       "    .dataframe tbody tr th:only-of-type {\n",
       "        vertical-align: middle;\n",
       "    }\n",
       "\n",
       "    .dataframe tbody tr th {\n",
       "        vertical-align: top;\n",
       "    }\n",
       "\n",
       "    .dataframe thead th {\n",
       "        text-align: right;\n",
       "    }\n",
       "</style>\n",
       "<table border=\"1\" class=\"dataframe\">\n",
       "  <thead>\n",
       "    <tr style=\"text-align: right;\">\n",
       "      <th></th>\n",
       "      <th>0</th>\n",
       "      <th>1</th>\n",
       "      <th>2</th>\n",
       "      <th>3</th>\n",
       "      <th>4</th>\n",
       "      <th>5</th>\n",
       "      <th>6</th>\n",
       "      <th>7</th>\n",
       "      <th>8</th>\n",
       "      <th>9</th>\n",
       "      <th>...</th>\n",
       "      <th>31</th>\n",
       "      <th>32</th>\n",
       "      <th>33</th>\n",
       "      <th>34</th>\n",
       "      <th>35</th>\n",
       "      <th>36</th>\n",
       "      <th>37</th>\n",
       "      <th>38</th>\n",
       "      <th>39</th>\n",
       "      <th>40</th>\n",
       "    </tr>\n",
       "  </thead>\n",
       "  <tbody>\n",
       "    <tr>\n",
       "      <th>0</th>\n",
       "      <td>2</td>\n",
       "      <td>-56</td>\n",
       "      <td>-0.33</td>\n",
       "      <td>-0.09</td>\n",
       "      <td>0.90</td>\n",
       "      <td>0.2</td>\n",
       "      <td>-11</td>\n",
       "      <td>12</td>\n",
       "      <td>0.004</td>\n",
       "      <td>-0.1</td>\n",
       "      <td>...</td>\n",
       "      <td>0.0</td>\n",
       "      <td>0.0</td>\n",
       "      <td>0.0</td>\n",
       "      <td>0.0</td>\n",
       "      <td>0.0</td>\n",
       "      <td>0.000</td>\n",
       "      <td>0.0</td>\n",
       "      <td>0.9</td>\n",
       "      <td>0.032</td>\n",
       "      <td>-0.0009</td>\n",
       "    </tr>\n",
       "    <tr>\n",
       "      <th>1</th>\n",
       "      <td>470</td>\n",
       "      <td>-39</td>\n",
       "      <td>0.02</td>\n",
       "      <td>0.12</td>\n",
       "      <td>0.39</td>\n",
       "      <td>-0.6</td>\n",
       "      <td>-12</td>\n",
       "      <td>8</td>\n",
       "      <td>0.009</td>\n",
       "      <td>-1.6</td>\n",
       "      <td>...</td>\n",
       "      <td>0.0</td>\n",
       "      <td>0.0</td>\n",
       "      <td>0.0</td>\n",
       "      <td>0.0</td>\n",
       "      <td>0.0</td>\n",
       "      <td>0.000</td>\n",
       "      <td>0.0</td>\n",
       "      <td>0.9</td>\n",
       "      <td>0.034</td>\n",
       "      <td>-0.0011</td>\n",
       "    </tr>\n",
       "    <tr>\n",
       "      <th>2</th>\n",
       "      <td>165</td>\n",
       "      <td>4</td>\n",
       "      <td>0.14</td>\n",
       "      <td>0.14</td>\n",
       "      <td>0.78</td>\n",
       "      <td>0.4</td>\n",
       "      <td>-11</td>\n",
       "      <td>-9</td>\n",
       "      <td>-0.003</td>\n",
       "      <td>-0.2</td>\n",
       "      <td>...</td>\n",
       "      <td>0.0</td>\n",
       "      <td>0.0</td>\n",
       "      <td>0.0</td>\n",
       "      <td>0.0</td>\n",
       "      <td>0.0</td>\n",
       "      <td>0.000</td>\n",
       "      <td>0.0</td>\n",
       "      <td>1.0</td>\n",
       "      <td>0.034</td>\n",
       "      <td>-0.0012</td>\n",
       "    </tr>\n",
       "    <tr>\n",
       "      <th>3</th>\n",
       "      <td>-113</td>\n",
       "      <td>5</td>\n",
       "      <td>-0.12</td>\n",
       "      <td>0.11</td>\n",
       "      <td>1.06</td>\n",
       "      <td>0.6</td>\n",
       "      <td>-10</td>\n",
       "      <td>-7</td>\n",
       "      <td>-0.008</td>\n",
       "      <td>0.0</td>\n",
       "      <td>...</td>\n",
       "      <td>0.0</td>\n",
       "      <td>0.0</td>\n",
       "      <td>0.0</td>\n",
       "      <td>0.0</td>\n",
       "      <td>0.0</td>\n",
       "      <td>0.000</td>\n",
       "      <td>0.0</td>\n",
       "      <td>0.9</td>\n",
       "      <td>0.033</td>\n",
       "      <td>-0.0011</td>\n",
       "    </tr>\n",
       "    <tr>\n",
       "      <th>4</th>\n",
       "      <td>-411</td>\n",
       "      <td>-21</td>\n",
       "      <td>-0.17</td>\n",
       "      <td>0.07</td>\n",
       "      <td>1.33</td>\n",
       "      <td>-0.6</td>\n",
       "      <td>-11</td>\n",
       "      <td>0</td>\n",
       "      <td>0.002</td>\n",
       "      <td>0.1</td>\n",
       "      <td>...</td>\n",
       "      <td>0.0</td>\n",
       "      <td>0.0</td>\n",
       "      <td>0.0</td>\n",
       "      <td>0.0</td>\n",
       "      <td>0.0</td>\n",
       "      <td>-0.002</td>\n",
       "      <td>0.0</td>\n",
       "      <td>0.9</td>\n",
       "      <td>0.032</td>\n",
       "      <td>-0.0008</td>\n",
       "    </tr>\n",
       "  </tbody>\n",
       "</table>\n",
       "<p>5 rows × 41 columns</p>\n",
       "</div>"
      ],
      "text/plain": [
       "    0   1     2     3     4    5   6   7      8    9   ...   31   32   33  \\\n",
       "0    2 -56 -0.33 -0.09  0.90  0.2 -11  12  0.004 -0.1  ...  0.0  0.0  0.0   \n",
       "1  470 -39  0.02  0.12  0.39 -0.6 -12   8  0.009 -1.6  ...  0.0  0.0  0.0   \n",
       "2  165   4  0.14  0.14  0.78  0.4 -11  -9 -0.003 -0.2  ...  0.0  0.0  0.0   \n",
       "3 -113   5 -0.12  0.11  1.06  0.6 -10  -7 -0.008  0.0  ...  0.0  0.0  0.0   \n",
       "4 -411 -21 -0.17  0.07  1.33 -0.6 -11   0  0.002  0.1  ...  0.0  0.0  0.0   \n",
       "\n",
       "    34   35     36   37   38     39      40  \n",
       "0  0.0  0.0  0.000  0.0  0.9  0.032 -0.0009  \n",
       "1  0.0  0.0  0.000  0.0  0.9  0.034 -0.0011  \n",
       "2  0.0  0.0  0.000  0.0  1.0  0.034 -0.0012  \n",
       "3  0.0  0.0  0.000  0.0  0.9  0.033 -0.0011  \n",
       "4  0.0  0.0 -0.002  0.0  0.9  0.032 -0.0008  \n",
       "\n",
       "[5 rows x 41 columns]"
      ]
     },
     "execution_count": 2,
     "metadata": {},
     "output_type": "execute_result"
    }
   ],
   "source": [
    "# import the data\n",
    "df = pd.read_csv('train.data', header=None)\n",
    "df.head()"
   ]
  },
  {
   "cell_type": "code",
   "execution_count": 3,
   "metadata": {
    "collapsed": false,
    "jupyter": {
     "outputs_hidden": false
    },
    "pycharm": {
     "name": "#%%\n"
    }
   },
   "outputs": [
    {
     "name": "stdout",
     "output_type": "stream",
     "text": [
      "<class 'pandas.core.frame.DataFrame'>\n",
      "RangeIndex: 7154 entries, 0 to 7153\n",
      "Data columns (total 41 columns):\n",
      " #   Column  Non-Null Count  Dtype  \n",
      "---  ------  --------------  -----  \n",
      " 0   0       7154 non-null   int64  \n",
      " 1   1       7154 non-null   int64  \n",
      " 2   2       7154 non-null   float64\n",
      " 3   3       7154 non-null   float64\n",
      " 4   4       7154 non-null   float64\n",
      " 5   5       7154 non-null   float64\n",
      " 6   6       7154 non-null   int64  \n",
      " 7   7       7154 non-null   int64  \n",
      " 8   8       7154 non-null   float64\n",
      " 9   9       7154 non-null   float64\n",
      " 10  10      7154 non-null   float64\n",
      " 11  11      7154 non-null   float64\n",
      " 12  12      7154 non-null   float64\n",
      " 13  13      7154 non-null   float64\n",
      " 14  14      7154 non-null   float64\n",
      " 15  15      7154 non-null   float64\n",
      " 16  16      7154 non-null   float64\n",
      " 17  17      7154 non-null   float64\n",
      " 18  18      7154 non-null   float64\n",
      " 19  19      7154 non-null   float64\n",
      " 20  20      7154 non-null   float64\n",
      " 21  21      7154 non-null   float64\n",
      " 22  22      7154 non-null   float64\n",
      " 23  23      7154 non-null   float64\n",
      " 24  24      7154 non-null   float64\n",
      " 25  25      7154 non-null   float64\n",
      " 26  26      7154 non-null   float64\n",
      " 27  27      7154 non-null   float64\n",
      " 28  28      7154 non-null   float64\n",
      " 29  29      7154 non-null   float64\n",
      " 30  30      7154 non-null   float64\n",
      " 31  31      7154 non-null   float64\n",
      " 32  32      7154 non-null   float64\n",
      " 33  33      7154 non-null   float64\n",
      " 34  34      7154 non-null   float64\n",
      " 35  35      7154 non-null   float64\n",
      " 36  36      7154 non-null   float64\n",
      " 37  37      7154 non-null   float64\n",
      " 38  38      7154 non-null   float64\n",
      " 39  39      7154 non-null   float64\n",
      " 40  40      7154 non-null   float64\n",
      "dtypes: float64(37), int64(4)\n",
      "memory usage: 2.2 MB\n"
     ]
    }
   ],
   "source": [
    "# dataset info\n",
    "df.info()"
   ]
  },
  {
   "cell_type": "code",
   "execution_count": 4,
   "metadata": {
    "collapsed": false,
    "jupyter": {
     "outputs_hidden": false
    },
    "pycharm": {
     "name": "#%%\n"
    }
   },
   "outputs": [
    {
     "data": {
      "text/plain": [
       "0     0\n",
       "1     0\n",
       "2     0\n",
       "3     0\n",
       "4     0\n",
       "5     0\n",
       "6     0\n",
       "7     0\n",
       "8     0\n",
       "9     0\n",
       "10    0\n",
       "11    0\n",
       "12    0\n",
       "13    0\n",
       "14    0\n",
       "15    0\n",
       "16    0\n",
       "17    0\n",
       "18    0\n",
       "19    0\n",
       "20    0\n",
       "21    0\n",
       "22    0\n",
       "23    0\n",
       "24    0\n",
       "25    0\n",
       "26    0\n",
       "27    0\n",
       "28    0\n",
       "29    0\n",
       "30    0\n",
       "31    0\n",
       "32    0\n",
       "33    0\n",
       "34    0\n",
       "35    0\n",
       "36    0\n",
       "37    0\n",
       "38    0\n",
       "39    0\n",
       "40    0\n",
       "dtype: int64"
      ]
     },
     "execution_count": 4,
     "metadata": {},
     "output_type": "execute_result"
    }
   ],
   "source": [
    "df.isnull().sum()"
   ]
  },
  {
   "cell_type": "code",
   "execution_count": 5,
   "metadata": {
    "collapsed": false,
    "jupyter": {
     "outputs_hidden": false
    },
    "pycharm": {
     "name": "#%%\n"
    }
   },
   "outputs": [],
   "source": [
    "# define TreeNode\n",
    "class Node(object):\n",
    "    def __init__(self):\n",
    "        self.left = None  # 左孩子\n",
    "        self.right = None  # 右孩子\n",
    "        self.feature = None  # 划分特征\n",
    "        self.value = None  # 划分值\n",
    "        self.w = None  # 权值\n",
    "        self.isleaf = False  # 是否为叶节点\n",
    "        self.depth = None  # 节点深度"
   ]
  },
  {
   "cell_type": "code",
   "execution_count": 6,
   "metadata": {
    "collapsed": false,
    "jupyter": {
     "outputs_hidden": false
    },
    "pycharm": {
     "name": "#%%\n"
    }
   },
   "outputs": [],
   "source": [
    "class DecisionTree(object):\n",
    "    def __init__(self, data, gamma, Lambda, max_depth, min_gain, min_num):\n",
    "        self.gamma = gamma\n",
    "        self.Lambda = Lambda\n",
    "        self.max_depth = max_depth\n",
    "        self.feature = None\n",
    "        self.value = None\n",
    "        self.min_gain = min_gain\n",
    "        self.min_num = min_num\n",
    "        self.root = self.BuildTree(data, 0)\n",
    "\n",
    "    def GetObj(self, G, H):\n",
    "        return -0.5 * (G ** 2) / (H + self.Lambda) + self.gamma\n",
    "\n",
    "    def GetWeight(self, data):\n",
    "        G = -2 * np.sum(data[:, -2] - data[:, -1])\n",
    "        H = 2 * data.shape[0]\n",
    "        return -G / (H + self.Lambda)\n",
    "\n",
    "    def ChooseBestSplit(self, data, depth):\n",
    "        # 树的深度大于某个阈值, 停止划分\n",
    "        if depth > self.max_depth:\n",
    "            return None, self.GetWeight(data)\n",
    "\n",
    "        y_t, y = data[:, -1], data[:, -2]\n",
    "\n",
    "        # 所有特征值都相同，停止划分\n",
    "        if len(set(y.T.tolist())) == 1:\n",
    "            return None, self.GetWeight(data)\n",
    "\n",
    "        m, n = np.shape(data)\n",
    "\n",
    "        # 样本数目小于某个阈值，停止划分\n",
    "        if m < self.min_num:\n",
    "            return None, self.GetWeight(data)\n",
    "\n",
    "        G = np.sum(-2 * (y - y_t))\n",
    "        H = 2 * m\n",
    "        Obj_p = self.GetObj(G, H)\n",
    "        max_gain = float(\"-inf\")\n",
    "        BestFeature = 0\n",
    "        BestValue = 0\n",
    "\n",
    "        # 遍历属性\n",
    "        for feature in range(n - 2):\n",
    "            # 特征值排序\n",
    "            tmp = np.c_[data[:, feature], -2 * (y - y_t)]\n",
    "            sorted_value_list = tmp[np.argsort(tmp[:, 0])]\n",
    "            Gl, Gr, Hl, Hr = 0, G, 0, H\n",
    "            # 遍历特征值\n",
    "            for i in range(sorted_value_list.shape[0]):\n",
    "                # <=i,划分到左子树\n",
    "                Gl += sorted_value_list[i, -1]\n",
    "                Gr = G - Gl\n",
    "                Hl += 2\n",
    "                Hr = H - Hl\n",
    "                Obj_l = self.GetObj(Gl, Hl)\n",
    "                Obj_r = self.GetObj(Gr, Hr)\n",
    "                gain = Obj_p - Obj_l - Obj_r\n",
    "                if gain > max_gain:\n",
    "                    max_gain = gain\n",
    "                    BestFeature = feature\n",
    "                    BestValue = sorted_value_list[i, 0]\n",
    "\n",
    "        # 增益小于某个阈值, 停止划分\n",
    "        if max_gain < self.min_gain:\n",
    "            return None, self.GetWeight(data)\n",
    "\n",
    "        return BestFeature, BestValue\n",
    "\n",
    "    def BuildTree(self, data, depth):\n",
    "        # 选择最优化划分\n",
    "        feature, value = self.ChooseBestSplit(data, depth)\n",
    "\n",
    "        # 满足停止条件，返回叶节点值\n",
    "        if feature == None:\n",
    "            leaf = Node()\n",
    "            leaf.depth = depth\n",
    "            leaf.isleaf = True\n",
    "            leaf.w = self.GetWeight(data)\n",
    "            return leaf\n",
    "\n",
    "        # 划分后赋值\n",
    "        else:\n",
    "            root = Node()\n",
    "            root.depth = depth\n",
    "            root.feature = feature\n",
    "            root.value = value\n",
    "            left = data[np.nonzero(data[:, feature] <= value)[0], :]\n",
    "            right = data[np.nonzero(data[:, feature] > value)[0], :]\n",
    "            root.left = self.BuildTree(left, depth + 1)\n",
    "            root.right = self.BuildTree(right, depth + 1)\n",
    "            return root\n",
    "\n",
    "    def infer(self, x):\n",
    "        p = self.root\n",
    "        while not p.isleaf:\n",
    "            if x[p.feature] <= p.value:\n",
    "                p = p.left\n",
    "            elif x[p.feature] > p.value:\n",
    "                p = p.right\n",
    "        return p.w"
   ]
  },
  {
   "cell_type": "code",
   "execution_count": 7,
   "metadata": {
    "collapsed": false,
    "jupyter": {
     "outputs_hidden": false
    },
    "pycharm": {
     "name": "#%%\n"
    }
   },
   "outputs": [],
   "source": [
    "class XGBoost(object):\n",
    "    def __init__(self, gamma, Lambda, max_depth, tree_num, min_gain, min_num):\n",
    "        self.gamma = gamma\n",
    "        self.Lambda = Lambda\n",
    "        self.max_depth = max_depth\n",
    "        self.tree_num = tree_num  # 决策树个数\n",
    "        self.min_gain = min_gain\n",
    "        self.min_num = min_num\n",
    "        self.TreeList = []\n",
    "\n",
    "    def fit(self, X, y):\n",
    "        y_t = np.zeros(y.shape)\n",
    "        data = np.c_[X, y, y_t]\n",
    "        LossList = []\n",
    "        for i in range(self.tree_num):\n",
    "            print(f\"Bulid {i + 1} tree\")\n",
    "            tree = DecisionTree(data, self.gamma, self.Lambda, self.max_depth, self.min_gain, self.min_num)\n",
    "            self.TreeList.append(tree)\n",
    "            data[:, -1] = self.predict(X)\n",
    "            loss = np.mean((y - data[:, -1]) ** 2)\n",
    "            LossList.append(loss)\n",
    "        return LossList, data[:, -1]\n",
    "\n",
    "    def predict(self, X):\n",
    "        if len(self.TreeList) == 0:\n",
    "            print(\"TreeList is empty!\")\n",
    "        else:\n",
    "            m = X.shape[0]\n",
    "            y_pred = np.zeros(m)\n",
    "            for i in range(m):\n",
    "                for tree in self.TreeList:\n",
    "                    y_pred[i] += tree.infer(X[i, :])\n",
    "            return y_pred"
   ]
  },
  {
   "cell_type": "code",
   "execution_count": 8,
   "metadata": {
    "collapsed": false,
    "jupyter": {
     "outputs_hidden": false
    },
    "pycharm": {
     "name": "#%%\n"
    }
   },
   "outputs": [],
   "source": [
    "# split the dataset into X_train, X_test, y_train, y_test\n",
    "X = df.iloc[:, :-1]\n",
    "y = df.iloc[:, -1]\n",
    "fold = int(len(y) / 10)\n",
    "X_train = X[:7 * fold].values\n",
    "y_train = y[:7 * fold].values\n",
    "X_test = X[-3 * fold:].values\n",
    "y_test = y[-3 * fold:].values"
   ]
  },
  {
   "cell_type": "code",
   "execution_count": 9,
   "metadata": {
    "collapsed": false,
    "jupyter": {
     "outputs_hidden": false
    },
    "pycharm": {
     "name": "#%%\n"
    }
   },
   "outputs": [],
   "source": [
    "def MSE(y_true, y_pred):\n",
    "    return np.mean((y_true - y_pred) ** 2)\n",
    "\n",
    "def RMSE(y_true, y_pred):\n",
    "    return np.sqrt(MSE(y_true, y_pred))\n",
    "\n",
    "def R2(y_true, y_pred):\n",
    "    return 1 - MSE(y_true, y_pred) / np.var(y_true)"
   ]
  },
  {
   "cell_type": "code",
   "execution_count": 69,
   "metadata": {
    "collapsed": false,
    "jupyter": {
     "outputs_hidden": false
    },
    "pycharm": {
     "name": "#%%\n"
    }
   },
   "outputs": [
    {
     "name": "stdout",
     "output_type": "stream",
     "text": [
      "Bulid 1 tree\n",
      "Bulid 2 tree\n",
      "Bulid 3 tree\n",
      "Bulid 4 tree\n",
      "Bulid 5 tree\n",
      "Bulid 6 tree\n",
      "Bulid 7 tree\n",
      "Bulid 8 tree\n",
      "Bulid 9 tree\n",
      "Bulid 10 tree\n",
      "Bulid 11 tree\n",
      "Bulid 12 tree\n",
      "训练12棵树耗时：13.444096399995033\n",
      "训练集RMSE : 0.00018041152294367527\n",
      "训练集R^2 : 0.8120102661912713\n"
     ]
    },
    {
     "data": {
      "image/png": "[encoded data removed]",
      "text/plain": [
       "<Figure size 640x480 with 1 Axes>"
      ]
     },
     "metadata": {},
     "output_type": "display_data"
    },
    {
     "name": "stdout",
     "output_type": "stream",
     "text": [
      "测试集RMSE : 0.00018454935418802407\n",
      "测试集R^2 : 0.7895570299893997\n"
     ]
    }
   ],
   "source": [
    "import time\n",
    "\n",
    "# train\n",
    "t1 = time.perf_counter()\n",
    "gamma, Lambda, max_depth, tree_num, min_gain, min_num = 1e-6, 7, 2, 12, 1e-7, 5\n",
    "XGB = XGBoost(gamma=gamma, Lambda=Lambda, max_depth=max_depth, tree_num=tree_num, min_gain=min_gain, min_num=min_num)\n",
    "LossList, y_train_pred = XGB.fit(X_train, y_train)\n",
    "t2 = time.perf_counter()\n",
    "t = t2 - t1\n",
    "print(f\"训练{tree_num}棵树耗时：{t}\")\n",
    "print(f\"训练集RMSE : {RMSE(y_train, y_train_pred)}\")\n",
    "print(f\"训练集R^2 : {R2(y_train, y_train_pred)}\")\n",
    "\n",
    "# draw loss curve\n",
    "plt.plot(np.arange(tree_num) + 1, LossList)\n",
    "plt.xlabel(\"tree number\")\n",
    "plt.ylabel(\"loss\")\n",
    "plt.title(\n",
    "    f\"training loss curve\\ngamma={gamma}, lambda={Lambda}, max_depth={max_depth}, tree_num={tree_num}, min_gain={min_gain}, min_num={min_num}\\n\")\n",
    "plt.show()\n",
    "\n",
    "# test\n",
    "y_test_pred = XGB.predict(X_test)\n",
    "\n",
    "# evaluation\n",
    "print(f\"测试集RMSE : {RMSE(y_test, y_test_pred)}\")\n",
    "print(f\"测试集R^2 : {R2(y_test, y_test_pred)}\")"
   ]
  },
  {
   "cell_type": "code",
   "execution_count": 77,
   "metadata": {
    "collapsed": false,
    "jupyter": {
     "outputs_hidden": false
    },
    "pycharm": {
     "name": "#%%\n"
    }
   },
   "outputs": [
    {
     "name": "stdout",
     "output_type": "stream",
     "text": [
      "测试集RMSE : 0.00020274704403556388\n",
      "测试集R^2 : 0.7460089431868516\n"
     ]
    }
   ],
   "source": [
    "from sklearn import tree\n",
    "\n",
    "clf = tree.DecisionTreeRegressor(max_depth=7)\n",
    "clf = clf.fit(X_train, y_train)\n",
    "y_test_pred2 = clf.predict(X_test)\n",
    "print(f\"测试集RMSE : {RMSE(y_test, y_test_pred2)}\")\n",
    "print(f\"测试集R^2 : {R2(y_test, y_test_pred2)}\")"
   ]
  }
 ],
 "metadata": {
  "kernelspec": {
   "display_name": "Python 3 (ipykernel)",
   "language": "python",
   "name": "python3"
  },
  "language_info": {
   "codemirror_mode": {
    "name": "ipython",
    "version": 3
   },
   "file_extension": ".py",
   "mimetype": "text/x-python",
   "name": "python",
   "nbconvert_exporter": "python",
   "pygments_lexer": "ipython3",
   "version": "3.9.7"
  }
 },
 "nbformat": 4,
 "nbformat_minor": 4
}