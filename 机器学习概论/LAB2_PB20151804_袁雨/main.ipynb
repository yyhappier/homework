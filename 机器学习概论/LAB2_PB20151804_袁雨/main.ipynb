{
 "cells": [
  {
   "cell_type": "code",
   "execution_count": 1,
   "metadata": {},
   "outputs": [],
   "source": [
    "import numpy as np"
   ]
  },
  {
   "cell_type": "markdown",
   "metadata": {},
   "source": [
    "# generate data"
   ]
  },
  {
   "cell_type": "code",
   "execution_count": 2,
   "metadata": {},
   "outputs": [],
   "source": [
    "# In real world, you cannot learn how the data was generated. So do not rely on this function when coding your lab.\n",
    "def generate_data(dim, num):\n",
    "    x = np.random.normal(0, 10, [num, dim])\n",
    "    coef = np.random.uniform(-1, 1, [dim, 1])\n",
    "    pred = np.dot(x, coef)\n",
    "    pred_n = (pred - np.mean(pred)) / np.sqrt(np.var(pred))\n",
    "    label = np.sign(pred_n)\n",
    "    mislabel_value = np.random.uniform(0, 1, num)\n",
    "    mislabel = 0\n",
    "    for i in range(num):\n",
    "        if np.abs(pred_n[i]) < 1 and mislabel_value[i] > 0.9 + 0.1 * np.abs(pred_n[i]):\n",
    "            label[i] *= -1\n",
    "            mislabel += 1\n",
    "    return x, label, mislabel/num"
   ]
  },
  {
   "cell_type": "code",
   "execution_count": 3,
   "metadata": {},
   "outputs": [],
   "source": [
    "# example\n",
    "x, y, mr = generate_data(5, 100)"
   ]
  },
  {
   "cell_type": "code",
   "execution_count": 4,
   "metadata": {},
   "outputs": [
    {
     "data": {
      "text/plain": "(array([[  2.80909779, -12.49076017,   1.67531333,  -2.08100856,\n          16.76514414],\n        [  7.28801727,  14.05095341, -12.82720853,  -5.4981614 ,\n           3.66341354],\n        [ 14.09719883,  -4.43475596,  -0.09525357,   3.7283802 ,\n         -10.77734169],\n        [  9.29088901,   3.30030333, -12.01920321,   8.39161191,\n          -3.32216729],\n        [ -2.98855415,   0.3067418 , -12.46454395,  15.8440152 ,\n          -5.91963409]]),\n array([[ 1.],\n        [-1.],\n        [ 1.],\n        [ 1.],\n        [ 1.]]))"
     },
     "execution_count": 4,
     "metadata": {},
     "output_type": "execute_result"
    }
   ],
   "source": [
    "x[:5], y[:5]"
   ]
  },
  {
   "cell_type": "code",
   "execution_count": 5,
   "outputs": [
    {
     "name": "stdout",
     "output_type": "stream",
     "text": [
      "[ 1. -1.  1.  1.  1.  1. -1. -1.  1. -1.  1. -1.  1. -1. -1.  1.  1.  1.\n",
      " -1. -1. -1. -1.  1. -1.  1. -1.  1.  1. -1.  1.  1. -1.  1.  1. -1.  1.\n",
      "  1. -1.  1.  1.  1. -1. -1.  1. -1. -1.  1.  1.  1.  1.  1.  1. -1. -1.\n",
      " -1.  1.  1.  1.  1.  1. -1.  1.  1. -1.  1. -1.  1.  1.  1. -1. -1.  1.\n",
      "  1.  1.  1. -1. -1.  1. -1.  1.  1.  1. -1.  1.  1. -1.  1. -1. -1.  1.\n",
      "  1. -1.  1.  1. -1.  1.  1.  1. -1. -1.]\n",
      "0.03\n"
     ]
    }
   ],
   "source": [
    "y=y.flatten()\n",
    "print(y)\n",
    "print(mr)"
   ],
   "metadata": {
    "collapsed": false,
    "pycharm": {
     "name": "#%%\n"
    }
   }
  },
  {
   "cell_type": "markdown",
   "source": [
    "# write your model class"
   ],
   "metadata": {
    "collapsed": false
   }
  },
  {
   "cell_type": "code",
   "execution_count": 6,
   "metadata": {},
   "outputs": [],
   "source": [
    "import random\n",
    "\n",
    "# you can do anything necessary about the model\n",
    "class SVM1:\n",
    "    def __init__(self, dim, max_iter, C, tol, epsilon):\n",
    "        \"\"\"\n",
    "        You can add some other parameters, which I think is not necessary\n",
    "        \"\"\"\n",
    "        self.dim = dim\n",
    "        self.max_iter = max_iter\n",
    "        self.C = C\n",
    "        self.tol = tol\n",
    "        self.epsilon = epsilon\n",
    "\n",
    "    def fit(self, X, y):\n",
    "        \"\"\"\n",
    "        Fit the coefficients via your methods\n",
    "        \"\"\"\n",
    "        self.b = 0\n",
    "        num = X.shape[0]\n",
    "        alpha = np.zeros(num)\n",
    "        for _ in range(self.max_iter):\n",
    "            for i in range(num):\n",
    "                self.w = np.dot(X.T,np.multiply(alpha,y))\n",
    "\n",
    "                gi = np.sign(np.dot(self.w.T, X[i,:].T)+self.b).astype(int)\n",
    "                # gi = np.dot(self.w.T, self.X[i,:].T)+self.b\n",
    "                Ei = gi - y[i]\n",
    "                if (y[i]*Ei<-self.tol and alpha[i]<self.C) or (y[i]*Ei>self.tol and alpha[i]>0):\n",
    "                    # random select(except i)\n",
    "                    l = list(range(num))\n",
    "                    j = random.choice(l[:i] + l[i+1:])\n",
    "\n",
    "                    Kij = np.dot(X[i,:], X[i,:].T)+np.dot(X[j,:], X[j,:].T)-2*np.dot(X[i,:], X[j,:].T)\n",
    "                    if Kij <= 0:\n",
    "                        continue\n",
    "\n",
    "                    gj = np.sign(np.dot(self.w.T, X[j,:].T)+self.b).astype(int)\n",
    "                    # gj = np.dot(self.w.T,self.X[j,:].T)+self.b\n",
    "                    Ej = gj - y[j]\n",
    "\n",
    "                    alpha_old_i,alpha_old_j = alpha[i],alpha[j]\n",
    "\n",
    "                    if y[i] != y[j]:\n",
    "                        L = max(0,alpha_old_j-alpha_old_i)\n",
    "                        H = min(self.C, self.C+alpha_old_j-alpha_old_i)\n",
    "                    else:\n",
    "                        L = max(0,alpha_old_i+alpha_old_j-self.C)\n",
    "                        H = min(self.C,alpha_old_i+alpha_old_j)\n",
    "\n",
    "                    # 定义域确定\n",
    "                    if abs(L - H) < self.epsilon:\n",
    "                        continue\n",
    "\n",
    "                    alpha[j] = alpha_old_j + float(y[j]*(Ei-Ej))/Kij\n",
    "                    alpha[j] = max(alpha[j],L)\n",
    "                    alpha[j] = min(alpha[j],H)\n",
    "\n",
    "                    alpha[i] = alpha_old_i + y[i]*y[j]*(alpha_old_j - alpha[j])\n",
    "                    if abs(alpha[j] - alpha_old_j) < self.epsilon and abs(alpha[i]-alpha_old_i)<self.epsilon:\n",
    "                        continue\n",
    "\n",
    "                    # bi = self.b - Ei - y[i] * (alpha[i]-alpha_old_i)*np.dot(self.X[i,:],self.X[i,:].T) - y[j]*(alpha[j]-alpha_old_j)*np.dot(self.X[j,:],self.X[i,:].T)\n",
    "                    #\n",
    "                    # if (0 < alpha[i]) and (self.C > alpha[i]):\n",
    "                    #     self.b = bi\n",
    "                    #     continue\n",
    "                    #\n",
    "                    # bj = self.b - Ej - y[i] * (alpha[i]-alpha_old_i)*np.dot(self.X[i,:],self.X[j,:].T) - y[j]*(alpha[j]-alpha_old_j)*np.dot(self.X[j,:],self.X[j,:].T)\n",
    "                    #\n",
    "                    # if (0 < alpha[j]) and (self.C > alpha[j]):\n",
    "                    #     self.b = bj\n",
    "                    #     continue\n",
    "                    # else:\n",
    "                    #     self.b = (bi+bj)/2.0\n",
    "                    #\n",
    "\n",
    "                    S = np.where((0 < alpha) & (alpha< self.C), 1, 0)\n",
    "                    if np.sum(S):\n",
    "                        b_pre = np.dot(X.T,np.multiply(alpha,y))\n",
    "                        self.b = np.dot(y-np.dot(b_pre,X.T),S)/np.sum(S)\n",
    "\n",
    "        self.w = np.dot(X.T,np.multiply(alpha,y))\n",
    "\n",
    "    def predict(self, X):\n",
    "        \"\"\"\n",
    "        Use the trained model to generate prediction probabilities on a new\n",
    "        collection of data points.\n",
    "        \"\"\"\n",
    "        output = np.dot(X, self.w) + self.b\n",
    "        predicted_label = np.sign(output)\n",
    "        return predicted_label\n"
   ]
  },
  {
   "cell_type": "code",
   "execution_count": 7,
   "outputs": [],
   "source": [
    "# you can do anything necessary about the model\n",
    "class SVM2:\n",
    "    def __init__(self, dim, lr, max_iter, C):\n",
    "        \"\"\"\n",
    "        You can add some other parameters, which I think is not necessary\n",
    "        \"\"\"\n",
    "        self.dim = dim\n",
    "        self.lr = lr\n",
    "        self.max_iter = max_iter\n",
    "        self.C = C\n",
    "\n",
    "    def fit(self, X, y):\n",
    "        \"\"\"\n",
    "        Fit the coefficients via your methods\n",
    "        \"\"\"\n",
    "\n",
    "        # initiate the weight value and bias value\n",
    "        self.w = np.zeros(self.dim)\n",
    "        self.b = 0\n",
    "        num = X.shape[0]\n",
    "\n",
    "        # implement Gradient Descent for optimization\n",
    "        for seq in range(self.max_iter):\n",
    "            # gradients\n",
    "\n",
    "            # for index,x_i in enumerate(self.X):\n",
    "            #     if y[index] * (np.dot(x_i,self.w)-self.b) >= 1:\n",
    "            #         dw = self.lambda_para*self.w\n",
    "            #         db = 0\n",
    "            #     else:\n",
    "            #         dw = self.lambda_para*self.w - np.dot(x_i, [index])\n",
    "            #         db = [index]\n",
    "            condition = np.multiply(y,np.dot(X,self.w)+self.b)\n",
    "\n",
    "            dw = self.w - self.C*np.dot(X[np.where(condition<1)].T,y[np.where(condition<1)])/num\n",
    "            db = -self.C * np.sum(y[np.where(condition<1)])/num\n",
    "\n",
    "            self.w = self.w - self.lr * dw\n",
    "            self.b = self.b - self.lr * db\n",
    "\n",
    "    def predict(self, X):\n",
    "        \"\"\"\n",
    "        Use the trained model to generate prediction probabilities on a new\n",
    "        collection of data points.\n",
    "        \"\"\"\n",
    "\n",
    "        output = np.dot(X,self.w) + self.b\n",
    "        predicted_label = np.sign(output)\n",
    "\n",
    "        return predicted_label\n"
   ],
   "metadata": {
    "collapsed": false,
    "pycharm": {
     "name": "#%%\n"
    }
   }
  },
  {
   "cell_type": "markdown",
   "metadata": {},
   "source": [
    "# construct and train your models"
   ]
  },
  {
   "cell_type": "code",
   "execution_count": 30,
   "outputs": [
    {
     "name": "stdout",
     "output_type": "stream",
     "text": [
      "0.0382\n"
     ]
    }
   ],
   "source": [
    "# generate data\n",
    "# X_data, y_data, mislabel = generate_data()\n",
    "X_data, y_data, mislabel = generate_data(20,10000)\n",
    "y_data = y_data.flatten()\n",
    "print(mislabel)"
   ],
   "metadata": {
    "collapsed": false,
    "pycharm": {
     "name": "#%%\n"
    }
   }
  },
  {
   "cell_type": "code",
   "execution_count": 62,
   "outputs": [
    {
     "name": "stdout",
     "output_type": "stream",
     "text": [
      "0.037\n"
     ]
    }
   ],
   "source": [
    "# generate data\n",
    "# X_data, y_data, mislabel = generate_data()\n",
    "X_data2, y_data2, mislabel2 = generate_data(30,15000)\n",
    "y_data2 = y_data2.flatten()\n",
    "print(mislabel2)"
   ],
   "metadata": {
    "collapsed": false,
    "pycharm": {
     "name": "#%%\n"
    }
   }
  },
  {
   "cell_type": "code",
   "execution_count": 97,
   "outputs": [
    {
     "name": "stdout",
     "output_type": "stream",
     "text": [
      "0.04\n"
     ]
    }
   ],
   "source": [
    "# generate data\n",
    "# X_data, y_data, mislabel = generate_data()\n",
    "X_data3, y_data3, mislabel3 = generate_data(10,5000)\n",
    "y_data3 = y_data3.flatten()\n",
    "print(mislabel3)"
   ],
   "metadata": {
    "collapsed": false,
    "pycharm": {
     "name": "#%%\n"
    }
   }
  },
  {
   "cell_type": "code",
   "execution_count": 9,
   "metadata": {},
   "outputs": [],
   "source": [
    "# constrcut model and train (remember record time)\n",
    "def train1(X_train, y_train, dim, max_iter, C, tol, epsilon):\n",
    "    model = SVM1(dim = dim, max_iter=max_iter, C=C,tol = tol, epsilon = epsilon)\n",
    "    model.fit(X_train, y_train)\n",
    "    return model\n",
    "\n",
    "def train2(X_train, y_train, dim, lr, max_iter, C):\n",
    "    model = SVM2(dim = dim, lr=lr, max_iter=max_iter, C = C)\n",
    "    model.fit(X_train,y_train)\n",
    "    return model"
   ]
  },
  {
   "cell_type": "markdown",
   "metadata": {},
   "source": [
    "# predict and compare your results"
   ]
  },
  {
   "cell_type": "code",
   "execution_count": 10,
   "metadata": {},
   "outputs": [],
   "source": [
    "# make prediction\n",
    "def test(X_test,model):\n",
    "    X_test_pred = model.predict(X_test)\n",
    "    acc_test = np.sum(X_test_pred == y_test)/len(y_test)\n",
    "    return acc_test"
   ]
  },
  {
   "cell_type": "code",
   "execution_count": 126,
   "outputs": [
    {
     "name": "stdout",
     "output_type": "stream",
     "text": [
      "\n",
      "第1轮训练：\n",
      "SVM1:\n",
      "耗时： 43.60137220000615\n",
      "测试集accuracy:  0.9515\n",
      "SVM2:\n",
      "耗时： 0.027651399999740534\n",
      "测试集accuracy:  0.943\n",
      "sklearn:\n"
     ]
    },
    {
     "name": "stderr",
     "output_type": "stream",
     "text": [
      "D:\\Anaconda3\\envs\\ml\\lib\\site-packages\\sklearn\\svm\\_base.py:1225: ConvergenceWarning: Liblinear failed to converge, increase the number of iterations.\n",
      "  warnings.warn(\n"
     ]
    },
    {
     "name": "stdout",
     "output_type": "stream",
     "text": [
      "耗时： 1.4466724000085378\n",
      "测试集accuracy:  0.943\n",
      "\n",
      "第2轮训练：\n",
      "SVM1:\n",
      "耗时： 47.81860759999836\n",
      "测试集accuracy:  0.948\n",
      "SVM2:\n",
      "耗时： 0.02711049999925308\n",
      "测试集accuracy:  0.9495\n",
      "sklearn:\n"
     ]
    },
    {
     "name": "stderr",
     "output_type": "stream",
     "text": [
      "D:\\Anaconda3\\envs\\ml\\lib\\site-packages\\sklearn\\svm\\_base.py:1225: ConvergenceWarning: Liblinear failed to converge, increase the number of iterations.\n",
      "  warnings.warn(\n"
     ]
    },
    {
     "name": "stdout",
     "output_type": "stream",
     "text": [
      "耗时： 1.4882093999913195\n",
      "测试集accuracy:  0.9495\n",
      "\n",
      "第3轮训练：\n",
      "SVM1:\n",
      "耗时： 51.908864600001834\n",
      "测试集accuracy:  0.947\n",
      "SVM2:\n",
      "耗时： 0.024727700001676567\n",
      "测试集accuracy:  0.957\n",
      "sklearn:\n"
     ]
    },
    {
     "name": "stderr",
     "output_type": "stream",
     "text": [
      "D:\\Anaconda3\\envs\\ml\\lib\\site-packages\\sklearn\\svm\\_base.py:1225: ConvergenceWarning: Liblinear failed to converge, increase the number of iterations.\n",
      "  warnings.warn(\n"
     ]
    },
    {
     "name": "stdout",
     "output_type": "stream",
     "text": [
      "耗时： 1.46267780000926\n",
      "测试集accuracy:  0.957\n",
      "\n",
      "第4轮训练：\n",
      "SVM1:\n",
      "耗时： 54.914126599993324\n",
      "测试集accuracy:  0.941\n",
      "SVM2:\n",
      "耗时： 0.026623400000971742\n",
      "测试集accuracy:  0.949\n",
      "sklearn:\n"
     ]
    },
    {
     "name": "stderr",
     "output_type": "stream",
     "text": [
      "D:\\Anaconda3\\envs\\ml\\lib\\site-packages\\sklearn\\svm\\_base.py:1225: ConvergenceWarning: Liblinear failed to converge, increase the number of iterations.\n",
      "  warnings.warn(\n"
     ]
    },
    {
     "name": "stdout",
     "output_type": "stream",
     "text": [
      "耗时： 1.4921311999933096\n",
      "测试集accuracy:  0.949\n",
      "\n",
      "第5轮训练：\n",
      "SVM1:\n",
      "耗时： 59.3508620000066\n",
      "测试集accuracy:  0.9585\n",
      "SVM2:\n",
      "耗时： 0.026343600009568036\n",
      "测试集accuracy:  0.9555\n",
      "sklearn:\n",
      "耗时： 1.4843074999953387\n",
      "测试集accuracy:  0.9555\n"
     ]
    },
    {
     "name": "stderr",
     "output_type": "stream",
     "text": [
      "D:\\Anaconda3\\envs\\ml\\lib\\site-packages\\sklearn\\svm\\_base.py:1225: ConvergenceWarning: Liblinear failed to converge, increase the number of iterations.\n",
      "  warnings.warn(\n"
     ]
    }
   ],
   "source": [
    "# split data\n",
    "import time\n",
    "from sklearn.svm import LinearSVC\n",
    "# k_folds cross validate\n",
    "k = 5\n",
    "fold =int(len(X_data)/k)\n",
    "acc_test_list1 = []\n",
    "time_list1 = []\n",
    "acc_test_list2 = []\n",
    "time_list2 = []\n",
    "acc_test_list3 = []\n",
    "time_list3 = []\n",
    "\n",
    "for i in range(k):\n",
    "    X_train = np.r_[X_data[:i*fold],X_data[(i+1)*fold:]]\n",
    "    y_train = np.r_[y_data[:i*fold],y_data[(i+1)*fold:]]\n",
    "    X_test=X_data[i*fold:(i+1)*fold]\n",
    "    y_test=y_data[i*fold:(i+1)*fold]\n",
    "\n",
    "    # compared with answer\n",
    "    print(\"\\n第%d轮训练：\"%(i+1))\n",
    "    print(\"SVM1:\")\n",
    "    t1 = time.perf_counter()\n",
    "    model = train1(X_train,y_train,dim = 20, max_iter=100, C=1,tol = 1e-8, epsilon = 1e-8)\n",
    "    t2 = time.perf_counter()\n",
    "    t = t2-t1\n",
    "    time_list1.append(t)\n",
    "    acc_test1 = test(X_test, model)\n",
    "    acc_test_list1.append(acc_test1)\n",
    "    print(\"耗时：\",t)\n",
    "    print(\"测试集accuracy: \",acc_test1)\n",
    "\n",
    "    print(\"SVM2:\")\n",
    "    t1 = time.perf_counter()\n",
    "    model = train2(X_train,y_train,dim = 20, lr=0.01, max_iter=100, C = 1)\n",
    "    t2 = time.perf_counter()\n",
    "    t = t2-t1\n",
    "    time_list2.append(t)\n",
    "    acc_test2 = test(X_test, model)\n",
    "    acc_test_list2.append(acc_test2)\n",
    "    print(\"耗时：\",t)\n",
    "    print(\"测试集accuracy: \",acc_test2)\n",
    "\n",
    "    print(\"sklearn:\")\n",
    "    t1 = time.perf_counter()\n",
    "    clf = LinearSVC(penalty = 'l2', loss='hinge', max_iter=100000)\n",
    "    clf.fit(X_train, y_train)\n",
    "    t2 = time.perf_counter()\n",
    "    t = t2-t1\n",
    "    time_list3.append(t)\n",
    "    acc_test3 = test(X_test, model)\n",
    "    acc_test_list3.append(acc_test3)\n",
    "    print(\"耗时：\",t)\n",
    "    print(\"测试集accuracy: \",acc_test3)\n"
   ],
   "metadata": {
    "collapsed": false,
    "pycharm": {
     "name": "#%%\n"
    }
   }
  },
  {
   "cell_type": "code",
   "execution_count": 127,
   "outputs": [
    {
     "name": "stdout",
     "output_type": "stream",
     "text": [
      "SVM1:\n",
      "[0.9515, 0.948, 0.947, 0.941, 0.9585]\n",
      "测试集平均accuracy:  0.9491999999999999\n",
      "[43.60137220000615, 47.81860759999836, 51.908864600001834, 54.914126599993324, 59.3508620000066]\n",
      "平均耗时： 51.51876660000126\n",
      "\n",
      "SVM2:\n",
      "[0.943, 0.9495, 0.957, 0.949, 0.9555]\n",
      "测试集平均accuracy:  0.9507999999999999\n",
      "[0.027651399999740534, 0.02711049999925308, 0.024727700001676567, 0.026623400000971742, 0.026343600009568036]\n",
      "平均耗时： 0.02649132000224199\n",
      "\n",
      "sklearn:\n",
      "[0.943, 0.9495, 0.957, 0.949, 0.9555]\n",
      "测试集平均accuracy:  0.9507999999999999\n",
      "[1.4466724000085378, 1.4882093999913195, 1.46267780000926, 1.4921311999933096, 1.4843074999953387]\n",
      "平均耗时： 1.4747996599995532\n"
     ]
    }
   ],
   "source": [
    "# compare each methods\n",
    "\n",
    "print(\"SVM1:\")\n",
    "print(acc_test_list1)\n",
    "print(\"测试集平均accuracy: \",np.mean(acc_test_list1))\n",
    "print(time_list1)\n",
    "print(\"平均耗时：\",np.mean(time_list1))\n",
    "\n",
    "print(\"\\nSVM2:\")\n",
    "print(acc_test_list2)\n",
    "print(\"测试集平均accuracy: \",np.mean(acc_test_list2))\n",
    "print(time_list2)\n",
    "print(\"平均耗时：\",np.mean(time_list2))\n",
    "\n",
    "print(\"\\nsklearn:\")\n",
    "print(acc_test_list3)\n",
    "print(\"测试集平均accuracy: \",np.mean(acc_test_list3))\n",
    "print(time_list3)\n",
    "print(\"平均耗时：\",np.mean(time_list3))"
   ],
   "metadata": {
    "collapsed": false,
    "pycharm": {
     "name": "#%%\n"
    }
   }
  },
  {
   "cell_type": "code",
   "execution_count": 63,
   "outputs": [
    {
     "name": "stdout",
     "output_type": "stream",
     "text": [
      "\n",
      "第1轮训练：\n",
      "SVM1:\n",
      "耗时： 159.49881640000967\n",
      "测试集accuracy:  0.9536666666666667\n",
      "SVM2:\n",
      "耗时： 0.0462198999885004\n",
      "测试集accuracy:  0.956\n",
      "sklearn:\n"
     ]
    },
    {
     "name": "stderr",
     "output_type": "stream",
     "text": [
      "D:\\Anaconda3\\envs\\ml\\lib\\site-packages\\sklearn\\svm\\_base.py:1225: ConvergenceWarning: Liblinear failed to converge, increase the number of iterations.\n",
      "  warnings.warn(\n"
     ]
    },
    {
     "name": "stdout",
     "output_type": "stream",
     "text": [
      "耗时： 3.7866291999816895\n",
      "测试集accuracy:  0.956\n",
      "\n",
      "第2轮训练：\n",
      "SVM1:\n",
      "耗时： 187.79496260001906\n",
      "测试集accuracy:  0.954\n",
      "SVM2:\n",
      "耗时： 0.046176400006515905\n",
      "测试集accuracy:  0.9513333333333334\n",
      "sklearn:\n"
     ]
    },
    {
     "name": "stderr",
     "output_type": "stream",
     "text": [
      "D:\\Anaconda3\\envs\\ml\\lib\\site-packages\\sklearn\\svm\\_base.py:1225: ConvergenceWarning: Liblinear failed to converge, increase the number of iterations.\n",
      "  warnings.warn(\n"
     ]
    },
    {
     "name": "stdout",
     "output_type": "stream",
     "text": [
      "耗时： 3.889095799997449\n",
      "测试集accuracy:  0.9513333333333334\n",
      "\n",
      "第3轮训练：\n",
      "SVM1:\n",
      "耗时： 183.29716719998396\n",
      "测试集accuracy:  0.9536666666666667\n",
      "SVM2:\n",
      "耗时： 0.050320300011662766\n",
      "测试集accuracy:  0.95\n",
      "sklearn:\n"
     ]
    },
    {
     "name": "stderr",
     "output_type": "stream",
     "text": [
      "D:\\Anaconda3\\envs\\ml\\lib\\site-packages\\sklearn\\svm\\_base.py:1225: ConvergenceWarning: Liblinear failed to converge, increase the number of iterations.\n",
      "  warnings.warn(\n"
     ]
    },
    {
     "name": "stdout",
     "output_type": "stream",
     "text": [
      "耗时： 3.8688754999893717\n",
      "测试集accuracy:  0.95\n",
      "\n",
      "第4轮训练：\n",
      "SVM1:\n",
      "耗时： 178.31898399998317\n",
      "测试集accuracy:  0.9533333333333334\n",
      "SVM2:\n",
      "耗时： 0.057560899993404746\n",
      "测试集accuracy:  0.9513333333333334\n",
      "sklearn:\n"
     ]
    },
    {
     "name": "stderr",
     "output_type": "stream",
     "text": [
      "D:\\Anaconda3\\envs\\ml\\lib\\site-packages\\sklearn\\svm\\_base.py:1225: ConvergenceWarning: Liblinear failed to converge, increase the number of iterations.\n",
      "  warnings.warn(\n"
     ]
    },
    {
     "name": "stdout",
     "output_type": "stream",
     "text": [
      "耗时： 3.8002525999909267\n",
      "测试集accuracy:  0.9513333333333334\n",
      "\n",
      "第5轮训练：\n",
      "SVM1:\n",
      "耗时： 191.07833839999512\n",
      "测试集accuracy:  0.9506666666666667\n",
      "SVM2:\n",
      "耗时： 0.046223699988331646\n",
      "测试集accuracy:  0.9553333333333334\n",
      "sklearn:\n",
      "耗时： 3.840269000007538\n",
      "测试集accuracy:  0.9553333333333334\n"
     ]
    },
    {
     "name": "stderr",
     "output_type": "stream",
     "text": [
      "D:\\Anaconda3\\envs\\ml\\lib\\site-packages\\sklearn\\svm\\_base.py:1225: ConvergenceWarning: Liblinear failed to converge, increase the number of iterations.\n",
      "  warnings.warn(\n"
     ]
    }
   ],
   "source": [
    "# split data\n",
    "import time\n",
    "from sklearn.svm import LinearSVC\n",
    "# k_folds cross validate\n",
    "k = 5\n",
    "fold =int(len(X_data2)/k)\n",
    "acc_test_list11 = []\n",
    "time_list11 = []\n",
    "acc_test_list22 = []\n",
    "time_list22 = []\n",
    "acc_test_list33 = []\n",
    "time_list33 = []\n",
    "\n",
    "for i in range(k):\n",
    "    X_train = np.r_[X_data2[:i*fold],X_data2[(i+1)*fold:]]\n",
    "    y_train = np.r_[y_data2[:i*fold],y_data2[(i+1)*fold:]]\n",
    "    X_test=X_data2[i*fold:(i+1)*fold]\n",
    "    y_test=y_data2[i*fold:(i+1)*fold]\n",
    "\n",
    "    # compared with answer\n",
    "    print(\"\\n第%d轮训练：\"%(i+1))\n",
    "    print(\"SVM1:\")\n",
    "    t1 = time.perf_counter()\n",
    "    model = train1(X_train,y_train, dim = 30, max_iter=100, C=1,tol = 1e-8, epsilon = 1e-8)\n",
    "    t2 = time.perf_counter()\n",
    "    t = t2-t1\n",
    "    time_list11.append(t)\n",
    "    acc_test1 = test(X_test, model)\n",
    "    acc_test_list11.append(acc_test1)\n",
    "    print(\"耗时：\",t)\n",
    "    print(\"测试集accuracy: \",acc_test1)\n",
    "\n",
    "    print(\"SVM2:\")\n",
    "    t1 = time.perf_counter()\n",
    "    model = train2(X_train,y_train,dim = 30, lr=0.01, max_iter=100, C = 1)\n",
    "    t2 = time.perf_counter()\n",
    "    t = t2-t1\n",
    "    time_list22.append(t)\n",
    "    acc_test2 = test(X_test, model)\n",
    "    acc_test_list22.append(acc_test2)\n",
    "    print(\"耗时：\",t)\n",
    "    print(\"测试集accuracy: \",acc_test2)\n",
    "\n",
    "    print(\"sklearn:\")\n",
    "    t1 = time.perf_counter()\n",
    "    clf = LinearSVC(penalty = 'l2', loss='hinge', max_iter=100000)\n",
    "    clf.fit(X_train, y_train)\n",
    "    t2 = time.perf_counter()\n",
    "    t = t2-t1\n",
    "    time_list33.append(t)\n",
    "    acc_test3 = test(X_test, model)\n",
    "    acc_test_list33.append(acc_test3)\n",
    "    print(\"耗时：\",t)\n",
    "    print(\"测试集accuracy: \",acc_test3)"
   ],
   "metadata": {
    "collapsed": false,
    "pycharm": {
     "name": "#%%\n"
    }
   }
  },
  {
   "cell_type": "code",
   "execution_count": 64,
   "outputs": [
    {
     "name": "stdout",
     "output_type": "stream",
     "text": [
      "SVM1:\n",
      "[0.9536666666666667, 0.954, 0.9536666666666667, 0.9533333333333334, 0.9506666666666667]\n",
      "测试集平均accuracy:  0.9530666666666667\n",
      "[159.49881640000967, 187.79496260001906, 183.29716719998396, 178.31898399998317, 191.07833839999512]\n",
      "平均耗时： 179.9976537199982\n",
      "\n",
      "SVM2:\n",
      "[0.956, 0.9513333333333334, 0.95, 0.9513333333333334, 0.9553333333333334]\n",
      "测试集平均accuracy:  0.9527999999999999\n",
      "[0.0462198999885004, 0.046176400006515905, 0.050320300011662766, 0.057560899993404746, 0.046223699988331646]\n",
      "平均耗时： 0.04930023999768309\n",
      "\n",
      "sklearn:\n",
      "[0.956, 0.9513333333333334, 0.95, 0.9513333333333334, 0.9553333333333334]\n",
      "测试集平均accuracy:  0.9527999999999999\n",
      "[3.7866291999816895, 3.889095799997449, 3.8688754999893717, 3.8002525999909267, 3.840269000007538]\n",
      "平均耗时： 3.837024419993395\n"
     ]
    }
   ],
   "source": [
    "# compare each methods\n",
    "\n",
    "print(\"SVM1:\")\n",
    "print(acc_test_list11)\n",
    "print(\"测试集平均accuracy: \",np.mean(acc_test_list11))\n",
    "print(time_list11)\n",
    "print(\"平均耗时：\",np.mean(time_list11))\n",
    "\n",
    "print(\"\\nSVM2:\")\n",
    "print(acc_test_list22)\n",
    "print(\"测试集平均accuracy: \",np.mean(acc_test_list22))\n",
    "print(time_list22)\n",
    "print(\"平均耗时：\",np.mean(time_list22))\n",
    "\n",
    "print(\"\\nsklearn:\")\n",
    "print(acc_test_list33)\n",
    "print(\"测试集平均accuracy: \",np.mean(acc_test_list33))\n",
    "print(time_list33)\n",
    "print(\"平均耗时：\",np.mean(time_list33))"
   ],
   "metadata": {
    "collapsed": false,
    "pycharm": {
     "name": "#%%\n"
    }
   }
  },
  {
   "cell_type": "code",
   "execution_count": 128,
   "outputs": [
    {
     "name": "stdout",
     "output_type": "stream",
     "text": [
      "\n",
      "第1轮训练：\n",
      "SVM1:\n",
      "耗时： 18.901264000000083\n",
      "测试集accuracy:  0.944\n",
      "SVM2:\n",
      "耗时： 0.012744399995426647\n",
      "测试集accuracy:  0.945\n",
      "sklearn:\n"
     ]
    },
    {
     "name": "stderr",
     "output_type": "stream",
     "text": [
      "D:\\Anaconda3\\envs\\ml\\lib\\site-packages\\sklearn\\svm\\_base.py:1225: ConvergenceWarning: Liblinear failed to converge, increase the number of iterations.\n",
      "  warnings.warn(\n"
     ]
    },
    {
     "name": "stdout",
     "output_type": "stream",
     "text": [
      "耗时： 0.2769842000125209\n",
      "测试集accuracy:  0.945\n",
      "\n",
      "第2轮训练：\n",
      "SVM1:\n",
      "耗时： 18.753948799989303\n",
      "测试集accuracy:  0.951\n",
      "SVM2:\n",
      "耗时： 0.0126419000007445\n",
      "测试集accuracy:  0.954\n",
      "sklearn:\n"
     ]
    },
    {
     "name": "stderr",
     "output_type": "stream",
     "text": [
      "D:\\Anaconda3\\envs\\ml\\lib\\site-packages\\sklearn\\svm\\_base.py:1225: ConvergenceWarning: Liblinear failed to converge, increase the number of iterations.\n",
      "  warnings.warn(\n"
     ]
    },
    {
     "name": "stdout",
     "output_type": "stream",
     "text": [
      "耗时： 0.2531458000012208\n",
      "测试集accuracy:  0.954\n",
      "\n",
      "第3轮训练：\n",
      "SVM1:\n",
      "耗时： 19.18545720000111\n",
      "测试集accuracy:  0.956\n",
      "SVM2:\n",
      "耗时： 0.012590400001499802\n",
      "测试集accuracy:  0.957\n",
      "sklearn:\n"
     ]
    },
    {
     "name": "stderr",
     "output_type": "stream",
     "text": [
      "D:\\Anaconda3\\envs\\ml\\lib\\site-packages\\sklearn\\svm\\_base.py:1225: ConvergenceWarning: Liblinear failed to converge, increase the number of iterations.\n",
      "  warnings.warn(\n"
     ]
    },
    {
     "name": "stdout",
     "output_type": "stream",
     "text": [
      "耗时： 0.2692286000092281\n",
      "测试集accuracy:  0.957\n",
      "\n",
      "第4轮训练：\n",
      "SVM1:\n",
      "耗时： 20.798065799986944\n",
      "测试集accuracy:  0.948\n",
      "SVM2:\n",
      "耗时： 0.014343699993332848\n",
      "测试集accuracy:  0.949\n",
      "sklearn:\n"
     ]
    },
    {
     "name": "stderr",
     "output_type": "stream",
     "text": [
      "D:\\Anaconda3\\envs\\ml\\lib\\site-packages\\sklearn\\svm\\_base.py:1225: ConvergenceWarning: Liblinear failed to converge, increase the number of iterations.\n",
      "  warnings.warn(\n"
     ]
    },
    {
     "name": "stdout",
     "output_type": "stream",
     "text": [
      "耗时： 0.26876520000223536\n",
      "测试集accuracy:  0.949\n",
      "\n",
      "第5轮训练：\n",
      "SVM1:\n",
      "耗时： 20.169730000008713\n",
      "测试集accuracy:  0.945\n",
      "SVM2:\n",
      "耗时： 0.009860899997875094\n",
      "测试集accuracy:  0.945\n",
      "sklearn:\n",
      "耗时： 0.23756069999944884\n",
      "测试集accuracy:  0.945\n"
     ]
    },
    {
     "name": "stderr",
     "output_type": "stream",
     "text": [
      "D:\\Anaconda3\\envs\\ml\\lib\\site-packages\\sklearn\\svm\\_base.py:1225: ConvergenceWarning: Liblinear failed to converge, increase the number of iterations.\n",
      "  warnings.warn(\n"
     ]
    }
   ],
   "source": [
    "# split data\n",
    "import time\n",
    "from sklearn.svm import LinearSVC\n",
    "# k_folds cross validate\n",
    "k = 5\n",
    "fold =int(len(X_data3)/k)\n",
    "acc_test_list111 = []\n",
    "time_list111 = []\n",
    "acc_test_list222 = []\n",
    "time_list222 = []\n",
    "acc_test_list333 = []\n",
    "time_list333 = []\n",
    "\n",
    "for i in range(k):\n",
    "    X_train = np.r_[X_data3[:i*fold],X_data3[(i+1)*fold:]]\n",
    "    y_train = np.r_[y_data3[:i*fold],y_data3[(i+1)*fold:]]\n",
    "    X_test=X_data3[i*fold:(i+1)*fold]\n",
    "    y_test=y_data3[i*fold:(i+1)*fold]\n",
    "    # compared with answer\n",
    "    print(\"\\n第%d轮训练：\"%(i+1))\n",
    "    print(\"SVM1:\")\n",
    "    t1 = time.perf_counter()\n",
    "    model = train1(X_train,y_train, dim = 10, max_iter=100, C=1,tol = 1e-8, epsilon = 1e-8)\n",
    "    t2 = time.perf_counter()\n",
    "    t = t2-t1\n",
    "    time_list111.append(t)\n",
    "    acc_test1 = test(X_test, model)\n",
    "    acc_test_list111.append(acc_test1)\n",
    "    print(\"耗时：\",t)\n",
    "    print(\"测试集accuracy: \",acc_test1)\n",
    "\n",
    "    print(\"SVM2:\")\n",
    "    t1 = time.perf_counter()\n",
    "    model = train2(X_train,y_train,dim = 10, lr=0.01, max_iter=100, C = 1)\n",
    "    t2 = time.perf_counter()\n",
    "    t = t2-t1\n",
    "    time_list222.append(t)\n",
    "    acc_test2 = test(X_test, model)\n",
    "    acc_test_list222.append(acc_test2)\n",
    "    print(\"耗时：\",t)\n",
    "    print(\"测试集accuracy: \",acc_test2)\n",
    "\n",
    "    print(\"sklearn:\")\n",
    "    t1 = time.perf_counter()\n",
    "    clf = LinearSVC(penalty = 'l2', loss='hinge', max_iter=100000)\n",
    "    clf.fit(X_train, y_train)\n",
    "    t2 = time.perf_counter()\n",
    "    t = t2-t1\n",
    "    time_list333.append(t)\n",
    "    acc_test3 = test(X_test, model)\n",
    "    acc_test_list333.append(acc_test3)\n",
    "    print(\"耗时：\",t)\n",
    "    print(\"测试集accuracy: \",acc_test3)"
   ],
   "metadata": {
    "collapsed": false,
    "pycharm": {
     "name": "#%%\n"
    }
   }
  },
  {
   "cell_type": "code",
   "execution_count": 129,
   "outputs": [
    {
     "name": "stdout",
     "output_type": "stream",
     "text": [
      "SVM1:\n",
      "[0.944, 0.951, 0.956, 0.948, 0.945]\n",
      "测试集平均accuracy:  0.9488\n",
      "[18.901264000000083, 18.753948799989303, 19.18545720000111, 20.798065799986944, 20.169730000008713]\n",
      "平均耗时： 19.56169315999723\n",
      "\n",
      "SVM2:\n",
      "[0.945, 0.954, 0.957, 0.949, 0.945]\n",
      "测试集平均accuracy:  0.95\n",
      "[0.012744399995426647, 0.0126419000007445, 0.012590400001499802, 0.014343699993332848, 0.009860899997875094]\n",
      "平均耗时： 0.012436259997775779\n",
      "\n",
      "sklearn:\n",
      "[0.945, 0.954, 0.957, 0.949, 0.945]\n",
      "测试集平均accuracy:  0.95\n",
      "[0.2769842000125209, 0.2531458000012208, 0.2692286000092281, 0.26876520000223536, 0.23756069999944884]\n",
      "平均耗时： 0.2611369000049308\n"
     ]
    }
   ],
   "source": [
    "# compare each methods\n",
    "\n",
    "print(\"SVM1:\")\n",
    "print(acc_test_list111)\n",
    "print(\"测试集平均accuracy: \",np.mean(acc_test_list111))\n",
    "print(time_list111)\n",
    "print(\"平均耗时：\",np.mean(time_list111))\n",
    "\n",
    "print(\"\\nSVM2:\")\n",
    "print(acc_test_list222)\n",
    "print(\"测试集平均accuracy: \",np.mean(acc_test_list222))\n",
    "print(time_list222)\n",
    "print(\"平均耗时：\",np.mean(time_list222))\n",
    "\n",
    "print(\"\\nsklearn:\")\n",
    "print(acc_test_list333)\n",
    "print(\"测试集平均accuracy: \",np.mean(acc_test_list333))\n",
    "print(time_list333)\n",
    "print(\"平均耗时：\",np.mean(time_list333))"
   ],
   "metadata": {
    "collapsed": false,
    "pycharm": {
     "name": "#%%\n"
    }
   }
  }
 ],
 "metadata": {
  "kernelspec": {
   "display_name": "Python 3",
   "language": "python",
   "name": "python3"
  },
  "language_info": {
   "codemirror_mode": {
    "name": "ipython",
    "version": 3
   },
   "file_extension": ".py",
   "mimetype": "text/x-python",
   "name": "python",
   "nbconvert_exporter": "python",
   "pygments_lexer": "ipython3",
   "version": "3.8.5"
  },
  "toc": {
   "base_numbering": 1,
   "nav_menu": {},
   "number_sections": true,
   "sideBar": true,
   "skip_h1_title": false,
   "title_cell": "Table of Contents",
   "title_sidebar": "Contents",
   "toc_cell": false,
   "toc_position": {},
   "toc_section_display": true,
   "toc_window_display": false
  }
 },
 "nbformat": 4,
 "nbformat_minor": 4
}